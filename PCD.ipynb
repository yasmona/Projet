{
 "cells": [
  {
   "cell_type": "code",
   "execution_count": 7,
   "metadata": {},
   "outputs": [
    {
     "name": "stdout",
     "output_type": "stream",
     "text": [
      "                  During our time in the White House  \\\n",
      "0                                 In A Promised Land   \n",
      "1  With COVID-19 cases reaching an all-time high ...   \n",
      "\n",
      "   Michelle and I were proud to display artwork from artists like Alma Thomas and Charles Alston—whose work provoked thought  \\\n",
      "0   I talk about the decisions I had to make duri...                                                                           \n",
      "1   we've got to continue to do our part to prote...                                                                           \n",
      "\n",
      "    challenged our assumptions  \\\n",
      "0                          NaN   \n",
      "1                          NaN   \n",
      "\n",
      "    and shaped how we define our narrative as a country.  \n",
      "0                                                NaN      \n",
      "1                                                NaN      \n"
     ]
    }
   ],
   "source": [
    "import pandas as pd\n",
    "r=pd.read_csv(\"C:/Users/YASSMINE/Documents/tweets.txt\",encoding='utf-8-sig')\n",
    "print(r)"
   ]
  },
  {
   "cell_type": "code",
   "execution_count": 2,
   "metadata": {},
   "outputs": [
    {
     "name": "stdout",
     "output_type": "stream",
     "text": [
      "                                                    0\n",
      "0   During our time in the White House, Michelle a...\n",
      "1   There is a lot of disinformation out there, bu...\n",
      "2   Climate change is a real threat to us all—but ...\n",
      "3   I’m proud to announce that the Obama President...\n",
      "4   Black-owned independent bookstores play a crit...\n",
      "..                                                ...\n",
      "61  It might be Labor Day weekend, but let’s all r...\n",
      "62  Completing the Census is crucial because it wi...\n",
      "63  Joe and Kamala have what it takes to lead this...\n",
      "64  If you can volunteer as a poll worker for earl...\n",
      "65  Chadwick came to the White House to work with ...\n",
      "\n",
      "[66 rows x 1 columns]\n"
     ]
    }
   ],
   "source": [
    "import pandas as pd\n",
    "df = pd.read_csv('C:/Users/YASSMINE/Documents/tweet.txt', sep=\"\\n\",header=None)\n",
    "print(df)"
   ]
  },
  {
   "cell_type": "code",
   "execution_count": null,
   "metadata": {},
   "outputs": [],
   "source": []
  }
 ],
 "metadata": {
  "kernelspec": {
   "display_name": "Python 3",
   "language": "python",
   "name": "python3"
  },
  "language_info": {
   "codemirror_mode": {
    "name": "ipython",
    "version": 3
   },
   "file_extension": ".py",
   "mimetype": "text/x-python",
   "name": "python",
   "nbconvert_exporter": "python",
   "pygments_lexer": "ipython3",
   "version": "3.7.4"
  }
 },
 "nbformat": 4,
 "nbformat_minor": 4
}
